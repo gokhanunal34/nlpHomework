{
 "cells": [
  {
   "cell_type": "markdown",
   "metadata": {},
   "source": [
    "# Unit 12 - Tales from the Crypto\n",
    "\n",
    "---\n"
   ]
  },
  {
   "cell_type": "markdown",
   "metadata": {},
   "source": [
    "## 1. Sentiment Analysis\n",
    "\n",
    "Use the [newsapi](https://newsapi.org/) to pull the latest news articles for Bitcoin and Ethereum and create a DataFrame of sentiment scores for each coin.\n",
    "\n",
    "Use descriptive statistics to answer the following questions:\n",
    "1. Which coin had the highest mean positive score?\n",
    "2. Which coin had the highest negative score?\n",
    "3. Which coin had the highest positive score?"
   ]
  },
  {
   "cell_type": "code",
   "execution_count": 6,
   "metadata": {},
   "outputs": [
    {
     "name": "stderr",
     "output_type": "stream",
     "text": [
      "[nltk_data] Downloading package vader_lexicon to\n",
      "[nltk_data]     C:\\Users\\ugokh\\AppData\\Roaming\\nltk_data...\n",
      "[nltk_data]   Package vader_lexicon is already up-to-date!\n"
     ]
    }
   ],
   "source": [
    "# Initial imports\n",
    "import os\n",
    "import pandas as pd\n",
    "from dotenv import load_dotenv\n",
    "import nltk as nltk\n",
    "nltk.download('vader_lexicon')\n",
    "from nltk.sentiment.vader import SentimentIntensityAnalyzer\n",
    "analyzer = SentimentIntensityAnalyzer()\n",
    "load_dotenv()\n",
    "%matplotlib inline"
   ]
  },
  {
   "cell_type": "code",
   "execution_count": 2,
   "metadata": {},
   "outputs": [],
   "source": [
    "# Read your api key environment variable\n",
    "apiKey = os.getenv(\"NEWS_API_KEY\")"
   ]
  },
  {
   "cell_type": "code",
   "execution_count": 3,
   "metadata": {},
   "outputs": [],
   "source": [
    "# Create a newsapi client\n",
    "from newsapi import NewsApiClient\n",
    "newsApi = NewsApiClient(api_key=apiKey)"
   ]
  },
  {
   "cell_type": "code",
   "execution_count": 4,
   "metadata": {},
   "outputs": [],
   "source": [
    "# Fetch the Bitcoin news articles\n",
    "bitcoinArticles = newsApi.get_everything(q=\"bitcoin\", language=\"en\", sort_by=\"relevancy\")"
   ]
  },
  {
   "cell_type": "code",
   "execution_count": 5,
   "metadata": {},
   "outputs": [],
   "source": [
    "# Fetch the Ethereum news articles\n",
    "ethereumArticles = newsApi.get_everything(q=\"ethereum\", language=\"en\", sort_by=\"relevancy\")"
   ]
  },
  {
   "cell_type": "code",
   "execution_count": 8,
   "metadata": {},
   "outputs": [
    {
     "data": {
      "text/plain": [
       "[{'text': 'Now, even though there are a number of women-focused crypto spaces, Odeniran says women are still underrepresented. Ive been in spaces where Im the only Black person, or the only woman, or the only B… [+3828 chars]',\n",
       "  'compound': 0.0772,\n",
       "  'positive': 0.036,\n",
       "  'negative': 0.0,\n",
       "  'neutral': 0.964},\n",
       " {'text': 'A Bitcoin mining site powered by otherwise lost gas from an oil well near Linden, Texas, on April 4th, 2022. | Photo by FRANCOIS PICARD/AFP via Getty Images\\r\\n\\n \\n\\n Of all the corporate climate hype fl… [+6544 chars]',\n",
       "  'compound': -0.0516,\n",
       "  'positive': 0.056,\n",
       "  'negative': 0.061,\n",
       "  'neutral': 0.882},\n",
       " {'text': 'Warren Buffett has always been a bitcoin skeptic. But the billionaire investor had his most harsh words yet for the cryptocurrency over the weekend. Buffett made it clear that his opposition to crypt… [+2297 chars]',\n",
       "  'compound': -0.3269,\n",
       "  'positive': 0.085,\n",
       "  'negative': 0.143,\n",
       "  'neutral': 0.772},\n",
       " {'text': \"You can now reportedly pay for your burritos and tacos with Bitcoin and other digital currencies, in case you don't mind spending your coins directly instead of going through exchanges first. Flexa h… [+1428 chars]\",\n",
       "  'compound': -0.1027,\n",
       "  'positive': 0.0,\n",
       "  'negative': 0.04,\n",
       "  'neutral': 0.96},\n",
       " {'text': \"Image source, Getty Images\\r\\nThe value of Bitcoin continued to fall over the weekend as it dropped below $34,000 (£27,630), according to the Coinbase cryptocurrency exchange.\\r\\nThe world's largest cryp… [+2164 chars]\",\n",
       "  'compound': 0.34,\n",
       "  'positive': 0.072,\n",
       "  'negative': 0.0,\n",
       "  'neutral': 0.928},\n",
       " {'text': 'As a kid, I remember when my father tried to use a broom handle in a last ditch effort to support a roof that was collapsing from the weight of nearly three feet of snow. You can guess how well that … [+3390 chars]',\n",
       "  'compound': 0.3818,\n",
       "  'positive': 0.114,\n",
       "  'negative': 0.052,\n",
       "  'neutral': 0.833},\n",
       " {'text': 'Customers at Chipotle will now be able to pay for their burritos with cryptocurrencies, including bitcoin, ether, and dogecoin, in a move that could help crypto become more mainstream, according to t… [+3130 chars]',\n",
       "  'compound': 0.3182,\n",
       "  'positive': 0.077,\n",
       "  'negative': 0.04,\n",
       "  'neutral': 0.883},\n",
       " {'text': 'If youve ever felt like introducing some Vegas-style odds into your retirement plan, youre finally in luck.\\r\\nLast week, Fidelity Investments announced that it would allow investors to put part of the… [+3239 chars]',\n",
       "  'compound': 0.7506,\n",
       "  'positive': 0.193,\n",
       "  'negative': 0.0,\n",
       "  'neutral': 0.807},\n",
       " {'text': 'Cryptocurrency mixers are sometimes used to help online criminals launder their stolen money by hiding its true origins, and the US Treasury is now ready to clamp down on them when hostile government… [+1432 chars]',\n",
       "  'compound': -0.4404,\n",
       "  'positive': 0.202,\n",
       "  'negative': 0.241,\n",
       "  'neutral': 0.557},\n",
       " {'text': 'Photo Illustration by Grayson Blackmon / The Verge; Photo by Oliyarnyk / CC-BY-SA-4.0\\r\\n\\n \\n\\n\\n With Michael Chobanian, the president of the Blockchain Association of Ukraine The terrible, unprovoked wa… [+52103 chars]',\n",
       "  'compound': -0.4767,\n",
       "  'positive': 0.0,\n",
       "  'negative': 0.103,\n",
       "  'neutral': 0.897},\n",
       " {'text': \"Posted \\r\\nFrom Bitcoin's dramatic drop to a new way to pay for your luxury Gucci handbag, we round up the week's big stories in cryptocurrencies. Kristy Kilburn reports.\",\n",
       "  'compound': -0.3612,\n",
       "  'positive': 0.0,\n",
       "  'negative': 0.123,\n",
       "  'neutral': 0.877},\n",
       " {'text': \"May 11 (Reuters) - Bitcoin fell 7.23% to $28,758.29 at 22:05 GMT on Wednesday, losing $2,241.68 from its previous close.\\r\\nBitcoin, the world's biggest and best-known cryptocurrency, is down 40.4% fro… [+361 chars]\",\n",
       "  'compound': -0.3818,\n",
       "  'positive': 0.0,\n",
       "  'negative': 0.077,\n",
       "  'neutral': 0.923},\n",
       " {'text': \"May 4 (Reuters) - Bitcoin rose 5.7% to $39,862.84, on Wednesday, adding $2,102.94 to its previous close.\\r\\nBitcoin, the world's biggest and best-known cryptocurrency, is up 20.9% from the year's low o… [+337 chars]\",\n",
       "  'compound': -0.2732,\n",
       "  'positive': 0.0,\n",
       "  'negative': 0.063,\n",
       "  'neutral': 0.937},\n",
       " {'text': \"May 9 (Reuters) - Bitcoin dropped 7.81% to $31,333.41 at 20:03 GMT on Monday, losing $2,655.98 from its previous close.\\r\\nBitcoin, the world's biggest and best-known cryptocurrency, is down 35% from t… [+351 chars]\",\n",
       "  'compound': -0.3818,\n",
       "  'positive': 0.0,\n",
       "  'negative': 0.077,\n",
       "  'neutral': 0.923},\n",
       " {'text': 'BTC fell to its lowest level since last July, as prices dropped below $33,000 to start the week. The selloff in cryptocurrency started last week, following the Fed’s decision to hike interest rates b… [+2651 chars]',\n",
       "  'compound': 0.1027,\n",
       "  'positive': 0.076,\n",
       "  'negative': 0.066,\n",
       "  'neutral': 0.859},\n",
       " {'text': 'At a Mexican restaurant in North London a few weeks ago, a handful of small-time but remarkably discerning retail cryptocurrency investors predicted that terra and luna would crash. Several of them w… [+2779 chars]',\n",
       "  'compound': -0.5499,\n",
       "  'positive': 0.0,\n",
       "  'negative': 0.106,\n",
       "  'neutral': 0.894},\n",
       " {'text': \"May 24 (Reuters) - The crypto winter is into its ninth week and bitcoin can't shake the chills.\\r\\nFrom technicals to turnover, market indicators are flashing red or amber for the biggest cryptocurrenc… [+3967 chars]\",\n",
       "  'compound': 0.1326,\n",
       "  'positive': 0.044,\n",
       "  'negative': 0.0,\n",
       "  'neutral': 0.956},\n",
       " {'text': 'May 10 (Reuters) - Bitcoin has scant experience with rising interest rates, posing perils for investors looking to capitalize on its dramatic drop.\\r\\nThe cryptocurrency has tanked along with other ris… [+4315 chars]',\n",
       "  'compound': 0.2263,\n",
       "  'positive': 0.085,\n",
       "  'negative': 0.06,\n",
       "  'neutral': 0.855},\n",
       " {'text': \"Terra is launching a new blockchain with a new luna token. Seth Green's animated show starring his stolen NFT is up in the air. The largest stablecoin issuer in the world launched a token for the Mex… [+3792 chars]\",\n",
       "  'compound': -0.4019,\n",
       "  'positive': 0.039,\n",
       "  'negative': 0.083,\n",
       "  'neutral': 0.879},\n",
       " {'text': \"Terra launched a new blockchain with a new luna token, today. Seth Green's animated show starring his stolen NFT is up in the air. The largest stablecoin issuer in the world launched a token for the … [+3854 chars]\",\n",
       "  'compound': -0.296,\n",
       "  'positive': 0.079,\n",
       "  'negative': 0.084,\n",
       "  'neutral': 0.838}]"
      ]
     },
     "execution_count": 8,
     "metadata": {},
     "output_type": "execute_result"
    }
   ],
   "source": [
    "# Create the Bitcoin sentiment scores DataFrame\n",
    "btcSentimentScore = []\n",
    "\n",
    "for article in bitcoinArticles[\"articles\"]:\n",
    "    try:\n",
    "        text = article[\"content\"]\n",
    "        sentiment = analyzer.polarity_scores(text)\n",
    "        compound = sentiment[\"compound\"]\n",
    "        pos = sentiment[\"pos\"]\n",
    "        neu = sentiment[\"neu\"]\n",
    "        neg = sentiment[\"neg\"]\n",
    "        \n",
    "        btcSentimentScore.append({\n",
    "            \"text\": text,\n",
    "            \"compound\": compound,\n",
    "            \"positive\": pos,\n",
    "            \"negative\": neg,\n",
    "            \"neutral\": neu\n",
    "        })\n",
    "    except ArithmeticError:\n",
    "        pass\n",
    "    \n",
    "btcSentimentScore"
   ]
  },
  {
   "cell_type": "code",
   "execution_count": 7,
   "metadata": {},
   "outputs": [],
   "source": [
    "# Create the Ethereum sentiment scores DataFrame\n",
    "# YOUR CODE HERE!"
   ]
  },
  {
   "cell_type": "code",
   "execution_count": 8,
   "metadata": {},
   "outputs": [],
   "source": [
    "# Describe the Bitcoin Sentiment\n",
    "# YOUR CODE HERE!"
   ]
  },
  {
   "cell_type": "code",
   "execution_count": 9,
   "metadata": {},
   "outputs": [],
   "source": [
    "# Describe the Ethereum Sentiment\n",
    "# YOUR CODE HERE!"
   ]
  },
  {
   "cell_type": "markdown",
   "metadata": {},
   "source": [
    "### Questions:\n",
    "\n",
    "Q: Which coin had the highest mean positive score?\n",
    "\n",
    "A: \n",
    "\n",
    "Q: Which coin had the highest compound score?\n",
    "\n",
    "A: \n",
    "\n",
    "Q. Which coin had the highest positive score?\n",
    "\n",
    "A: "
   ]
  },
  {
   "cell_type": "markdown",
   "metadata": {},
   "source": [
    "---"
   ]
  },
  {
   "cell_type": "markdown",
   "metadata": {},
   "source": [
    "## 2. Natural Language Processing\n",
    "---\n",
    "###   Tokenizer\n",
    "\n",
    "In this section, you will use NLTK and Python to tokenize the text for each coin. Be sure to:\n",
    "1. Lowercase each word.\n",
    "2. Remove Punctuation.\n",
    "3. Remove Stopwords."
   ]
  },
  {
   "cell_type": "code",
   "execution_count": 10,
   "metadata": {},
   "outputs": [],
   "source": [
    "from nltk.tokenize import word_tokenize, sent_tokenize\n",
    "from nltk.corpus import stopwords\n",
    "from nltk.stem import WordNetLemmatizer, PorterStemmer\n",
    "from string import punctuation\n",
    "import re"
   ]
  },
  {
   "cell_type": "code",
   "execution_count": 11,
   "metadata": {},
   "outputs": [],
   "source": [
    "# Instantiate the lemmatizer\n",
    "# YOUR CODE HERE!\n",
    "\n",
    "# Create a list of stopwords\n",
    "# YOUR CODE HERE!\n",
    "\n",
    "# Expand the default stopwords list if necessary\n",
    "# YOUR CODE HERE!"
   ]
  },
  {
   "cell_type": "code",
   "execution_count": 12,
   "metadata": {},
   "outputs": [],
   "source": [
    "# Complete the tokenizer function\n",
    "def tokenizer(text):\n",
    "    \"\"\"Tokenizes text.\"\"\"\n",
    "    \n",
    "    # Remove the punctuation from text\n",
    "\n",
    "   \n",
    "    # Create a tokenized list of the words\n",
    "    \n",
    "    \n",
    "    # Lemmatize words into root words\n",
    "\n",
    "   \n",
    "    # Convert the words to lowercase\n",
    "    \n",
    "    \n",
    "    # Remove the stop words\n",
    "    \n",
    "    \n",
    "    return tokens"
   ]
  },
  {
   "cell_type": "code",
   "execution_count": 13,
   "metadata": {},
   "outputs": [],
   "source": [
    "# Create a new tokens column for Bitcoin\n",
    "# YOUR CODE HERE!"
   ]
  },
  {
   "cell_type": "code",
   "execution_count": 14,
   "metadata": {},
   "outputs": [],
   "source": [
    "# Create a new tokens column for Ethereum\n",
    "# YOUR CODE HERE!"
   ]
  },
  {
   "cell_type": "markdown",
   "metadata": {},
   "source": [
    "---"
   ]
  },
  {
   "cell_type": "markdown",
   "metadata": {},
   "source": [
    "### NGrams and Frequency Analysis\n",
    "\n",
    "In this section you will look at the ngrams and word frequency for each coin. \n",
    "\n",
    "1. Use NLTK to produce the n-grams for N = 2. \n",
    "2. List the top 10 words for each coin. "
   ]
  },
  {
   "cell_type": "code",
   "execution_count": 15,
   "metadata": {},
   "outputs": [],
   "source": [
    "from collections import Counter\n",
    "from nltk import ngrams"
   ]
  },
  {
   "cell_type": "code",
   "execution_count": 16,
   "metadata": {},
   "outputs": [],
   "source": [
    "# Generate the Bitcoin N-grams where N=2\n",
    "# YOUR CODE HERE!"
   ]
  },
  {
   "cell_type": "code",
   "execution_count": 17,
   "metadata": {},
   "outputs": [],
   "source": [
    "# Generate the Ethereum N-grams where N=2\n",
    "# YOUR CODE HERE!"
   ]
  },
  {
   "cell_type": "code",
   "execution_count": 18,
   "metadata": {},
   "outputs": [],
   "source": [
    "# Function token_count generates the top 10 words for a given coin\n",
    "def token_count(tokens, N=3):\n",
    "    \"\"\"Returns the top N tokens from the frequency count\"\"\"\n",
    "    return Counter(tokens).most_common(N)"
   ]
  },
  {
   "cell_type": "code",
   "execution_count": 19,
   "metadata": {},
   "outputs": [],
   "source": [
    "# Use token_count to get the top 10 words for Bitcoin\n",
    "# YOUR CODE HERE!"
   ]
  },
  {
   "cell_type": "code",
   "execution_count": 20,
   "metadata": {},
   "outputs": [],
   "source": [
    "# Use token_count to get the top 10 words for Ethereum\n",
    "# YOUR CODE HERE!"
   ]
  },
  {
   "cell_type": "markdown",
   "metadata": {},
   "source": [
    "---"
   ]
  },
  {
   "cell_type": "markdown",
   "metadata": {},
   "source": [
    "### Word Clouds\n",
    "\n",
    "In this section, you will generate word clouds for each coin to summarize the news for each coin"
   ]
  },
  {
   "cell_type": "code",
   "execution_count": 21,
   "metadata": {},
   "outputs": [],
   "source": [
    "from wordcloud import WordCloud\n",
    "import matplotlib.pyplot as plt\n",
    "plt.style.use('seaborn-whitegrid')\n",
    "import matplotlib as mpl\n",
    "mpl.rcParams['figure.figsize'] = [20.0, 10.0]"
   ]
  },
  {
   "cell_type": "code",
   "execution_count": 22,
   "metadata": {},
   "outputs": [],
   "source": [
    "# Generate the Bitcoin word cloud\n",
    "# YOUR CODE HERE!"
   ]
  },
  {
   "cell_type": "code",
   "execution_count": 23,
   "metadata": {},
   "outputs": [],
   "source": [
    "# Generate the Ethereum word cloud\n",
    "# YOUR CODE HERE!"
   ]
  },
  {
   "cell_type": "markdown",
   "metadata": {},
   "source": [
    "---\n",
    "## 3. Named Entity Recognition\n",
    "\n",
    "In this section, you will build a named entity recognition model for both Bitcoin and Ethereum, then visualize the tags using SpaCy."
   ]
  },
  {
   "cell_type": "code",
   "execution_count": 24,
   "metadata": {},
   "outputs": [],
   "source": [
    "import spacy\n",
    "from spacy import displacy"
   ]
  },
  {
   "cell_type": "code",
   "execution_count": 25,
   "metadata": {},
   "outputs": [],
   "source": [
    "# Download the language model for SpaCy\n",
    "# !python -m spacy download en_core_web_sm"
   ]
  },
  {
   "cell_type": "code",
   "execution_count": 26,
   "metadata": {},
   "outputs": [],
   "source": [
    "# Load the spaCy model\n",
    "nlp = spacy.load('en_core_web_sm')"
   ]
  },
  {
   "cell_type": "markdown",
   "metadata": {},
   "source": [
    "---\n",
    "### Bitcoin NER"
   ]
  },
  {
   "cell_type": "code",
   "execution_count": 27,
   "metadata": {},
   "outputs": [],
   "source": [
    "# Concatenate all of the Bitcoin text together\n",
    "# YOUR CODE HERE!"
   ]
  },
  {
   "cell_type": "code",
   "execution_count": 28,
   "metadata": {},
   "outputs": [],
   "source": [
    "# Run the NER processor on all of the text\n",
    "# YOUR CODE HERE!\n",
    "\n",
    "# Add a title to the document\n",
    "# YOUR CODE HERE!"
   ]
  },
  {
   "cell_type": "code",
   "execution_count": 29,
   "metadata": {},
   "outputs": [],
   "source": [
    "# Render the visualization\n",
    "# YOUR CODE HERE!"
   ]
  },
  {
   "cell_type": "code",
   "execution_count": 30,
   "metadata": {},
   "outputs": [],
   "source": [
    "# List all Entities\n",
    "# YOUR CODE HERE!"
   ]
  },
  {
   "cell_type": "markdown",
   "metadata": {},
   "source": [
    "---"
   ]
  },
  {
   "cell_type": "markdown",
   "metadata": {},
   "source": [
    "### Ethereum NER"
   ]
  },
  {
   "cell_type": "code",
   "execution_count": 31,
   "metadata": {},
   "outputs": [],
   "source": [
    "# Concatenate all of the Ethereum text together\n",
    "# YOUR CODE HERE!"
   ]
  },
  {
   "cell_type": "code",
   "execution_count": 32,
   "metadata": {},
   "outputs": [],
   "source": [
    "# Run the NER processor on all of the text\n",
    "# YOUR CODE HERE!\n",
    "\n",
    "# Add a title to the document\n",
    "# YOUR CODE HERE!"
   ]
  },
  {
   "cell_type": "code",
   "execution_count": 33,
   "metadata": {},
   "outputs": [],
   "source": [
    "# Render the visualization\n",
    "# YOUR CODE HERE!"
   ]
  },
  {
   "cell_type": "code",
   "execution_count": 34,
   "metadata": {},
   "outputs": [],
   "source": [
    "# List all Entities\n",
    "# YOUR CODE HERE!"
   ]
  },
  {
   "cell_type": "markdown",
   "metadata": {},
   "source": [
    "---"
   ]
  }
 ],
 "metadata": {
  "file_extension": ".py",
  "interpreter": {
   "hash": "3d4b1688fd67dfb419b74659f25947468f94550feac0393bd06d1642aa406198"
  },
  "kernelspec": {
   "display_name": "Python 3.7.11 ('pyvizenv')",
   "language": "python",
   "name": "python3"
  },
  "language_info": {
   "codemirror_mode": {
    "name": "ipython",
    "version": 3
   },
   "file_extension": ".py",
   "mimetype": "text/x-python",
   "name": "python",
   "nbconvert_exporter": "python",
   "pygments_lexer": "ipython3",
   "version": "3.7.11"
  },
  "mimetype": "text/x-python",
  "name": "python",
  "npconvert_exporter": "python",
  "pygments_lexer": "ipython3",
  "version": 3
 },
 "nbformat": 4,
 "nbformat_minor": 4
}
